{
 "cells": [
  {
   "cell_type": "code",
   "execution_count": 1,
   "metadata": {},
   "outputs": [],
   "source": [
    "import csv, json"
   ]
  },
  {
   "cell_type": "code",
   "execution_count": 2,
   "metadata": {},
   "outputs": [],
   "source": [
    "csvFilePath = \"links.csv\"\n",
    "jsonFilePath = \"links.json\"\n"
   ]
  },
  {
   "cell_type": "code",
   "execution_count": 3,
   "metadata": {},
   "outputs": [],
   "source": [
    "data = {}\n",
    "with open (csvFilePath) as csvFile:\n",
    "    csvReader = csv.DictReader(csvFile)\n",
    "    for rows in csvReader:\n",
    "        movieId = rows[\"movieId\"]\n",
    "        data[movieId] = rows"
   ]
  },
  {
   "cell_type": "code",
   "execution_count": 5,
   "metadata": {},
   "outputs": [],
   "source": [
    "with open(jsonFilePath, 'w') as jsonFile:\n",
    "    jsonFile.write(json.dumps(data))"
   ]
  },
  {
   "cell_type": "code",
   "execution_count": 7,
   "metadata": {},
   "outputs": [],
   "source": [
    "csvFilePath1 = \"movies.csv\"\n",
    "jsonFilePath1 = \"movies.json\""
   ]
  },
  {
   "cell_type": "code",
   "execution_count": 8,
   "metadata": {},
   "outputs": [],
   "source": [
    "data = {}\n",
    "with open (csvFilePath1) as csvFile:\n",
    "    csvReader = csv.DictReader(csvFile)\n",
    "    for rows in csvReader:\n",
    "        movieId = rows[\"movieId\"]\n",
    "        data[movieId] = rows\n",
    "        \n",
    "with open(jsonFilePath1, 'w') as jsonFile:\n",
    "    jsonFile.write(json.dumps(data))"
   ]
  },
  {
   "cell_type": "code",
   "execution_count": 11,
   "metadata": {},
   "outputs": [],
   "source": [
    "csvFilePath2 = \"ratings.csv\"\n",
    "jsonFilePath2 = \"ratings.json\""
   ]
  },
  {
   "cell_type": "code",
   "execution_count": 12,
   "metadata": {},
   "outputs": [],
   "source": [
    "data = {}\n",
    "with open (csvFilePath2) as csvFile:\n",
    "    csvReader = csv.DictReader(csvFile)\n",
    "    for rows in csvReader:\n",
    "        userId = rows[\"userId\"]\n",
    "        data[userId] = rows\n",
    "        \n",
    "with open(jsonFilePath2, 'w') as jsonFile:\n",
    "    jsonFile.write(json.dumps(data))"
   ]
  },
  {
   "cell_type": "code",
   "execution_count": 16,
   "metadata": {},
   "outputs": [],
   "source": [
    "csvFilePath3 = \"tags.csv\"\n",
    "jsonFilePath3 = \"tags.json\""
   ]
  },
  {
   "cell_type": "code",
   "execution_count": 17,
   "metadata": {},
   "outputs": [],
   "source": [
    "data = {}\n",
    "with open (csvFilePath3) as csvFile:\n",
    "    csvReader = csv.DictReader(csvFile)\n",
    "    for rows in csvReader:\n",
    "        userId = rows[\"userId\"]\n",
    "        data[userId] = rows\n",
    "        \n",
    "with open(jsonFilePath3, 'w') as jsonFile:\n",
    "    jsonFile.write(json.dumps(data))"
   ]
  },
  {
   "cell_type": "code",
   "execution_count": null,
   "metadata": {},
   "outputs": [],
   "source": []
  }
 ],
 "metadata": {
  "kernelspec": {
   "display_name": "Python 3",
   "language": "python",
   "name": "python3"
  },
  "language_info": {
   "codemirror_mode": {
    "name": "ipython",
    "version": 3
   },
   "file_extension": ".py",
   "mimetype": "text/x-python",
   "name": "python",
   "nbconvert_exporter": "python",
   "pygments_lexer": "ipython3",
   "version": "3.6.8"
  }
 },
 "nbformat": 4,
 "nbformat_minor": 2
}
